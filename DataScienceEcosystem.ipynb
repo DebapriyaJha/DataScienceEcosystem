{
 "cells": [
  {
   "cell_type": "markdown",
   "id": "94777418-7e49-4002-83b3-8095b0da1e66",
   "metadata": {},
   "source": [
    "# Data Science Tools and Ecosystem\n",
    "\r\n"
   ]
  },
  {
   "cell_type": "markdown",
   "id": "bcd6c981-ef25-43da-b26a-7dd66031a107",
   "metadata": {},
   "source": [
    "In this notebook, Data Science Tools and Ecosystem are summarized.\r\n"
   ]
  },
  {
   "cell_type": "markdown",
   "id": "e40f6038-69df-464b-af60-0629a3c8754f",
   "metadata": {},
   "source": [
    "**Objectives:**\n",
    "- List popular languages for Data Science\n",
    "- List commonly used libraries in Data Science\n",
    "- Perform simple arithmetic operations\n"
   ]
  },
  {
   "cell_type": "markdown",
   "id": "b0648c78-e2df-4c05-b813-bb20af145794",
   "metadata": {},
   "source": [
    "Some of the popular languages that Data Scientists use are:\r\n",
    "1. Python\r\n",
    "2. R\r\n",
    "3. SQL\r\n"
   ]
  },
  {
   "cell_type": "markdown",
   "id": "e220fe71-e074-45e7-98d1-181566cbd758",
   "metadata": {},
   "source": [
    "Some of the commonly used libraries used by Data Scientists include:\r\n",
    "1. Pandas\r\n",
    "2. NumPy\r\n",
    "3. Matplotlib\r\n"
   ]
  },
  {
   "cell_type": "markdown",
   "id": "fcfb8851-f5b6-4abe-b6cc-7b1856007183",
   "metadata": {},
   "source": [
    "| Data Science Tools |\r\n",
    "| --- |\r\n",
    "| Jupyter Notebook |\r\n",
    "| RStudio |\r\n",
    "| PyCharm |\r\n"
   ]
  },
  {
   "cell_type": "markdown",
   "id": "9a1f1d69-926b-4654-bb92-8194a2fb8da7",
   "metadata": {},
   "source": [
    "### Below are a few examples of evaluating arithmetic expressions in Python.\r\n"
   ]
  },
  {
   "cell_type": "code",
   "execution_count": 1,
   "id": "335ead12-ecaa-4e08-bb96-d4eeb4f5e243",
   "metadata": {},
   "outputs": [
    {
     "data": {
      "text/plain": [
       "17"
      ]
     },
     "execution_count": 1,
     "metadata": {},
     "output_type": "execute_result"
    }
   ],
   "source": [
    "# This a simple arithmetic expression to multiply then add integers\n",
    "result = (3*4)+5\n",
    "result\n"
   ]
  },
  {
   "cell_type": "code",
   "execution_count": 2,
   "id": "cb1f3f58-e61e-4be0-a036-04a1b9461c69",
   "metadata": {},
   "outputs": [
    {
     "data": {
      "text/plain": [
       "3.3333333333333335"
      ]
     },
     "execution_count": 2,
     "metadata": {},
     "output_type": "execute_result"
    }
   ],
   "source": [
    "# This will convert 200 minutes to hours by dividing by 60\n",
    "minutes = 200\n",
    "hours = minutes / 60\n",
    "hours\n"
   ]
  },
  {
   "cell_type": "markdown",
   "id": "7f5966e3-3cce-43ad-b027-982a2b423272",
   "metadata": {},
   "source": [
    "## Author\n",
    "Debapriya Jha\n"
   ]
  },
  {
   "cell_type": "code",
   "execution_count": null,
   "id": "8ca756d5-cbfa-449b-8e1e-6cc13546453b",
   "metadata": {},
   "outputs": [],
   "source": []
  }
 ],
 "metadata": {
  "kernelspec": {
   "display_name": "Python 3 (ipykernel)",
   "language": "python",
   "name": "python3"
  },
  "language_info": {
   "codemirror_mode": {
    "name": "ipython",
    "version": 3
   },
   "file_extension": ".py",
   "mimetype": "text/x-python",
   "name": "python",
   "nbconvert_exporter": "python",
   "pygments_lexer": "ipython3",
   "version": "3.12.1"
  }
 },
 "nbformat": 4,
 "nbformat_minor": 5
}
